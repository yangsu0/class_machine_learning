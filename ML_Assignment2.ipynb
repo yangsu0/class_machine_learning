{
  "nbformat": 4,
  "nbformat_minor": 0,
  "metadata": {
    "colab": {
      "name": "ML_Assignment2.ipynb",
      "provenance": [],
      "collapsed_sections": [],
      "authorship_tag": "ABX9TyPRruuE5P7fY0kGHLMqeGfn",
      "include_colab_link": true
    },
    "kernelspec": {
      "name": "python3",
      "display_name": "Python 3"
    },
    "accelerator": "GPU"
  },
  "cells": [
    {
      "cell_type": "markdown",
      "metadata": {
        "id": "view-in-github",
        "colab_type": "text"
      },
      "source": [
        "<a href=\"https://colab.research.google.com/github/yangsu0/class_machine_learning/blob/master/ML_Assignment2.ipynb\" target=\"_parent\"><img src=\"https://colab.research.google.com/assets/colab-badge.svg\" alt=\"Open In Colab\"/></a>"
      ]
    },
    {
      "cell_type": "code",
      "metadata": {
        "id": "VDRr_F0Hgbba",
        "colab_type": "code",
        "outputId": "92adc61c-c297-4b50-998a-10f1cefab760",
        "colab": {
          "base_uri": "https://localhost:8080/",
          "height": 298
        }
      },
      "source": [
        "import numpy as np \n",
        "from matplotlib import pyplot as plt \n",
        "\n",
        "#x data define\n",
        "x = np.array([2])\n",
        "\n",
        "tmp = 3\n",
        "for i in range(499):\n",
        "  tmp += 0.05\n",
        "  x = np.append(x,tmp)\n",
        "\n",
        "#y=4x\n",
        "y1 = [4*v for v in x]\n",
        "\n",
        "plt.plot(x, y1)\n",
        "plt.title('Input Data')\n",
        "\n",
        "#random noise define\n",
        "n = np.random.normal(0, 2, size=500)\n",
        "y = y1 + n\n",
        "\n",
        "plt.scatter(x,y,c='black')"
      ],
      "execution_count": 1,
      "outputs": [
        {
          "output_type": "execute_result",
          "data": {
            "text/plain": [
              "<matplotlib.collections.PathCollection at 0x7ff0cfab0e10>"
            ]
          },
          "metadata": {
            "tags": []
          },
          "execution_count": 1
        },
        {
          "output_type": "display_data",
          "data": {
            "image/png": "[encoded data removed]",
            "text/plain": [
              "<Figure size 432x288 with 1 Axes>"
            ]
          },
          "metadata": {
            "tags": []
          }
        }
      ]
    },
    {
      "cell_type": "code",
      "metadata": {
        "colab_type": "code",
        "id": "sDH2r5KXtizD",
        "colab": {}
      },
      "source": [
        "#initialize step_size and theta0,1\n",
        "step_size=0.00125\n",
        "theta0 = 50\n",
        "theta1 = 10"
      ],
      "execution_count": 0,
      "outputs": []
    },
    {
      "cell_type": "code",
      "metadata": {
        "colab_type": "code",
        "id": "oJDhlAshtijR",
        "colab": {}
      },
      "source": [
        "#define linear model 'h'\n",
        "def func_h(theta0, theta1):\n",
        "  return theta0 + theta1 * x"
      ],
      "execution_count": 0,
      "outputs": []
    },
    {
      "cell_type": "code",
      "metadata": {
        "colab_type": "code",
        "id": "-DB-B5u8tiQW",
        "colab": {}
      },
      "source": [
        "#define object function 'j'\n",
        "def func_j(theta0, theta1):\n",
        "  return (1/1000) * sum(((func_h(theta0, theta1)[i] - y[i]) * (func_h(theta0, theta1)[i] - y[i])) for i in range(500))"
      ],
      "execution_count": 0,
      "outputs": []
    },
    {
      "cell_type": "code",
      "metadata": {
        "colab_type": "code",
        "id": "j0cyklKUtheR",
        "colab": {}
      },
      "source": [
        "e_values = []\n",
        "theta0_values = []\n",
        "theta1_values = []"
      ],
      "execution_count": 0,
      "outputs": []
    },
    {
      "cell_type": "code",
      "metadata": {
        "colab_type": "code",
        "id": "usS6jtjAtgFE",
        "colab": {}
      },
      "source": [
        "#Loop while the object function convergence \n",
        "\n",
        "while(1):\n",
        "  j = func_j(theta0, theta1)\n",
        "  \n",
        "  theta0 -= step_size * (1/500) * sum((func_h(theta0,theta1)[i] - y[i]) for i in range(500))\n",
        "  theta1 -= step_size * (1/500) * sum(((func_h(theta0,theta1)[i] - y[i]) * x[i]) for i in range(500))\n",
        "  \n",
        "  new_j = func_j(theta0, theta1)\n",
        "\n",
        "  e_values.append(new_j)\n",
        "  theta0_values.append(theta0)\n",
        "  theta1_values.append(theta1)\n",
        "  \n",
        "  #until convergence\n",
        "  if abs(j-new_j) < 0.0000000000000000000001:\n",
        "    break\n",
        "    "
      ],
      "execution_count": 0,
      "outputs": []
    },
    {
      "cell_type": "code",
      "metadata": {
        "colab_type": "code",
        "outputId": "4363e1a1-4f7c-4847-a0f6-f92c02033a14",
        "id": "beb3ugWftdn8",
        "colab": {
          "base_uri": "https://localhost:8080/",
          "height": 281
        }
      },
      "source": [
        "#output result of linear model\n",
        "plt.title('Output Result')\n",
        "plt.plot(x, func_h(theta0, theta1), 'r')\n",
        "plt.scatter(x,y,c='black')\n",
        "plt.show()"
      ],
      "execution_count": 13,
      "outputs": [
        {
          "output_type": "display_data",
          "data": {
            "image/png": "[encoded data removed]",
            "text/plain": [
              "<Figure size 432x288 with 1 Axes>"
            ]
          },
          "metadata": {
            "tags": []
          }
        }
      ]
    },
    {
      "cell_type": "code",
      "metadata": {
        "id": "hu9gRPq5wuFD",
        "colab_type": "code",
        "colab": {
          "base_uri": "https://localhost:8080/",
          "height": 281
        },
        "outputId": "deac338f-28ff-4faf-e3ee-d59577b71a07"
      },
      "source": [
        "#energy values\n",
        "e_values = np.array(e_values)\n",
        "plt.title('Energy Values')\n",
        "plt.plot(e_values,'b')\n",
        "plt.show()"
      ],
      "execution_count": 14,
      "outputs": [
        {
          "output_type": "display_data",
          "data": {
            "image/png": "[encoded data removed]",
            "text/plain": [
              "<Figure size 432x288 with 1 Axes>"
            ]
          },
          "metadata": {
            "tags": []
          }
        }
      ]
    }
  ]
}