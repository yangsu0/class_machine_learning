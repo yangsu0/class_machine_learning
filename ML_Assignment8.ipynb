{
  "nbformat": 4,
  "nbformat_minor": 0,
  "metadata": {
    "colab": {
      "name": "ML_Assignment8.ipynb",
      "provenance": [],
      "collapsed_sections": [],
      "authorship_tag": "ABX9TyOvK3LsRZqUuBTk/QzgkLKN",
      "include_colab_link": true
    },
    "kernelspec": {
      "name": "python3",
      "display_name": "Python 3"
    },
    "accelerator": "GPU"
  },
  "cells": [
    {
      "cell_type": "markdown",
      "metadata": {
        "id": "view-in-github",
        "colab_type": "text"
      },
      "source": [
        "<a href=\"https://colab.research.google.com/github/yangsu0/class_machine_learning/blob/master/ML_Assignment8.ipynb\" target=\"_parent\"><img src=\"https://colab.research.google.com/assets/colab-badge.svg\" alt=\"Open In Colab\"/></a>"
      ]
    },
    {
      "cell_type": "code",
      "metadata": {
        "id": "6-mtPF0sGzsM",
        "colab_type": "code",
        "colab": {}
      },
      "source": [
        "import matplotlib.pyplot as plt\n",
        "import numpy as np\n",
        "\n",
        "file_data   = \"mnist_test.csv\"\n",
        "handle_file = open(file_data, \"r\")\n",
        "data        = handle_file.readlines()\n",
        "handle_file.close()\n",
        "\n",
        "size_row    = 28    # height of the image\n",
        "size_col    = 28    # width of the image\n",
        "\n",
        "num_image   = len(data)\n",
        "count       = 0     # count for the number of images\n",
        "\n",
        "#\n",
        "# make a matrix each column of which represents an images in a vector form \n",
        "#\n",
        "list_image  = np.empty((size_row * size_col, num_image), dtype=float)\n",
        "list_label  = np.empty(num_image, dtype=int)\n",
        "\n",
        "for line in data:\n",
        "\n",
        "    line_data   = line.split(',')\n",
        "    label       = line_data[0]\n",
        "    im_vector   = np.asfarray(line_data[1:])\n",
        "\n",
        "    list_label[count]       = label\n",
        "    list_image[:, count]    = im_vector    \n",
        "\n",
        "    count += 1\n"
      ],
      "execution_count": 0,
      "outputs": []
    },
    {
      "cell_type": "code",
      "metadata": {
        "id": "lPUnUe5mR-yK",
        "colab_type": "code",
        "colab": {}
      },
      "source": [
        "#check the same label images\n",
        "label_cnt = []\n",
        "for i in range(10):\n",
        "  label_cnt.append([])\n",
        "\n",
        "for i in range(num_image):\n",
        "  if list_label[i] == 0:\n",
        "    label_cnt[0].append(i)\n",
        "  elif list_label[i] == 1:\n",
        "    label_cnt[1].append(i)\n",
        "  elif list_label[i] == 2:\n",
        "    label_cnt[2].append(i)\n",
        "  elif list_label[i] == 3:\n",
        "    label_cnt[3].append(i)\n",
        "  elif list_label[i] == 4:\n",
        "    label_cnt[4].append(i)    \n",
        "  elif list_label[i] == 5:\n",
        "    label_cnt[5].append(i)\n",
        "  elif list_label[i] == 6:\n",
        "    label_cnt[6].append(i)\n",
        "  elif list_label[i] == 7:\n",
        "    label_cnt[7].append(i)\n",
        "  elif list_label[i] == 8:\n",
        "    label_cnt[8].append(i)\n",
        "  elif list_label[i] == 9:\n",
        "    label_cnt[9].append(i)\n"
      ],
      "execution_count": 0,
      "outputs": []
    },
    {
      "cell_type": "code",
      "metadata": {
        "id": "ZgRjirJkQJem",
        "colab_type": "code",
        "colab": {}
      },
      "source": [
        "#calculate average of same label images\n",
        "first_element=[]\n",
        "sum_total = []\n",
        "for i in range(len(label_cnt)): \n",
        "  for j in range(len(label_cnt[i])):\n",
        "    if j == 0:\n",
        "      sum = list_image[:,label_cnt[i][0]]\n",
        "      first_element.append(label_cnt[i][j])\n",
        "      continue\n",
        "    sum += list_image[:,label_cnt[i][j]]\n",
        "\n",
        "  sum = sum / (len(label_cnt[i]))\n",
        "  sum_total.append(sum)"
      ],
      "execution_count": 0,
      "outputs": []
    },
    {
      "cell_type": "code",
      "metadata": {
        "id": "JuJspmKkQNKq",
        "colab_type": "code",
        "colab": {}
      },
      "source": [
        "#define sigmoid function\n",
        "def sigmoid(z):\n",
        "  return 1/(1+np.exp(-z))"
      ],
      "execution_count": 0,
      "outputs": []
    },
    {
      "cell_type": "code",
      "metadata": {
        "id": "3253J86IQaEk",
        "colab_type": "code",
        "colab": {
          "base_uri": "https://localhost:8080/",
          "height": 51
        },
        "outputId": "69d0ba61-0a54-4b22-da21-44c082df63dc"
      },
      "source": [
        "#calculate average of sigmoid values \n",
        "theta = np.random.normal(0, 1, size=(size_row * size_col))\n",
        "sig_output = []\n",
        "for i in range(len(label_cnt)): \n",
        "  for j in range(len(label_cnt[i])):\n",
        "    if j == 0:\n",
        "      list_image[:,label_cnt[i][0]] = list_image[:,label_cnt[i][0]] * theta\n",
        "      logis = np.sum(list_image[:,label_cnt[i][0]])\n",
        "      logis = sigmoid(logis)\n",
        "      continue\n",
        "    list_image[:,label_cnt[i][j]] = list_image[:,label_cnt[i][j]] * theta\n",
        "    logis += sigmoid(np.sum(list_image[:,label_cnt[i][j]]))\n",
        "  logis = logis/(len(label_cnt[i]))\n",
        "  sig_output.append(logis)\n",
        "\n"
      ],
      "execution_count": 99,
      "outputs": [
        {
          "output_type": "stream",
          "text": [
            "/usr/local/lib/python3.6/dist-packages/ipykernel_launcher.py:3: RuntimeWarning: overflow encountered in exp\n",
            "  This is separate from the ipykernel package so we can avoid doing imports until\n"
          ],
          "name": "stderr"
        }
      ]
    }
  ]
}