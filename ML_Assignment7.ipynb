{
  "nbformat": 4,
  "nbformat_minor": 0,
  "metadata": {
    "colab": {
      "name": "ML_Assignment7.ipynb",
      "provenance": [],
      "private_outputs": true,
      "authorship_tag": "ABX9TyO+DWOMYkBMjVwlmPCNd4SK",
      "include_colab_link": true
    },
    "kernelspec": {
      "name": "python3",
      "display_name": "Python 3"
    },
    "accelerator": "GPU"
  },
  "cells": [
    {
      "cell_type": "markdown",
      "metadata": {
        "id": "view-in-github",
        "colab_type": "text"
      },
      "source": [
        "<a href=\"https://colab.research.google.com/github/yangsu0/class_machine_learning/blob/master/ML_Assignment7.ipynb\" target=\"_parent\"><img src=\"https://colab.research.google.com/assets/colab-badge.svg\" alt=\"Open In Colab\"/></a>"
      ]
    },
    {
      "cell_type": "code",
      "metadata": {
        "id": "CiaYasaVRD1C",
        "colab_type": "code",
        "colab": {}
      },
      "source": [
        "import numpy as np\n",
        "import matplotlib.pyplot as plt\n",
        "import pandas as pd\n",
        "\n",
        "#data preparation\n",
        "data    = np.genfromtxt(\"data-nonlinear.txt\", delimiter=',')\n",
        "\n",
        "pointX  = data[:, 0]\n",
        "pointY  = data[:, 1]\n",
        "label   = data[:, 2]\n",
        "\n",
        "pointX0 = pointX[label == 0]\n",
        "pointY0 = pointY[label == 0]\n",
        "\n",
        "pointX1 = pointX[label == 1]\n",
        "pointY1 = pointY[label == 1]"
      ],
      "execution_count": 0,
      "outputs": []
    },
    {
      "cell_type": "code",
      "metadata": {
        "id": "uBWKuuDFRMAm",
        "colab_type": "code",
        "colab": {}
      },
      "source": [
        "#initialize step_size and theta\n",
        "step_size = 1.25\n",
        "theta = np.zeros((10,10))\n",
        "over_lambda = 0.00001\n",
        "fit_lambda = 0.01\n",
        "under_lambda = 0.5 #lambda 크면 underfitting. lambda가 0에 가까우면 overfitting"
      ],
      "execution_count": 0,
      "outputs": []
    },
    {
      "cell_type": "code",
      "metadata": {
        "id": "KO9jqSZfbKcu",
        "colab_type": "code",
        "colab": {}
      },
      "source": [
        "#define g function and sigmoid function\n",
        "def g_function(x, y):\n",
        "  sum = theta[0,0]\n",
        "  for i in range(10):\n",
        "    for j in range(10):\n",
        "      if i==0 and j==0:\n",
        "        continue\n",
        "      sum += theta[i,j]*(x**i)*(y**j)\n",
        "  return sum\n",
        "\n",
        "def sigmoid(x, y):\n",
        "  z = g_function(x, y)\n",
        "  return 1/(1+np.exp(-z))"
      ],
      "execution_count": 0,
      "outputs": []
    },
    {
      "cell_type": "code",
      "metadata": {
        "id": "mwFJiDXubKjQ",
        "colab_type": "code",
        "colab": {}
      },
      "source": [
        "#object function\n",
        "def object_function(m, lamb):\n",
        "  theta_2 = theta[0,0]**2\n",
        "  for j in range(10):\n",
        "    for k in range(10):\n",
        "      if j==0 and k==0:\n",
        "        continue\n",
        "      theta_2 += theta[j,k]**2\n",
        "  return ((1/m) *  sum((-label[i] * np.log(sigmoid(pointX[i], pointY[i]))) - ((1-label[i]) * (np.log(1-sigmoid(pointX[i], pointY[i]))))  for i in range(m))) + ((lamb/2) * theta_2) "
      ],
      "execution_count": 0,
      "outputs": []
    },
    {
      "cell_type": "code",
      "metadata": {
        "id": "GYPAQcGebKlx",
        "colab_type": "code",
        "colab": {}
      },
      "source": [
        "#define gradient descent\n",
        "def gradient_descent(m, lamb):\n",
        "  for i in range(10):\n",
        "    for j in range(10):\n",
        "      theta[i,j] -= step_size * (((1/m) * sum((sigmoid(pointX[k], pointY[k]) - label[k]) * (pointX[k]**i) * (pointY[k]**j) for k in range(m))) + (lamb * theta[i,j]))"
      ],
      "execution_count": 0,
      "outputs": []
    },
    {
      "cell_type": "code",
      "metadata": {
        "id": "akweWBBRbPQC",
        "colab_type": "code",
        "colab": {}
      },
      "source": [
        "#define value list variables\n",
        "m = 118\n",
        "total = len(label)\n",
        "\n",
        "over_e_values = []\n",
        "fit_e_values = []\n",
        "under_e_values = []\n",
        "\n",
        "over_acc_values = []\n",
        "fit_acc_values = []\n",
        "under_acc_values = []"
      ],
      "execution_count": 0,
      "outputs": []
    },
    {
      "cell_type": "code",
      "metadata": {
        "id": "Dzm0P7_EbQoN",
        "colab_type": "code",
        "colab": {}
      },
      "source": [
        "#define training accuracy\n",
        "def training_accuracy():\n",
        "  cor = 0\n",
        "\n",
        "  for i in range(len(pointX0)):\n",
        "    if sigmoid(pointX0[i], pointY0[i]) < 0.5:\n",
        "      cor+=1\n",
        "  for i in range(len(pointX1)):\n",
        "    if sigmoid(pointX1[i], pointY1[i]) >= 0.5:\n",
        "      cor+=1\n",
        "  \n",
        "  return cor/total"
      ],
      "execution_count": 0,
      "outputs": []
    },
    {
      "cell_type": "code",
      "metadata": {
        "id": "dyKQAq4AbR_j",
        "colab_type": "code",
        "colab": {}
      },
      "source": [
        "X_axis = np.arange(-1, 1.25, 0.05)\n",
        "Y_axis = np.arange(-1, 1.25, 0.05)\n",
        "\n",
        "xx, yy = np.meshgrid(X_axis, Y_axis)"
      ],
      "execution_count": 0,
      "outputs": []
    },
    {
      "cell_type": "code",
      "metadata": {
        "id": "jKkMVEdBbTvy",
        "colab_type": "code",
        "colab": {}
      },
      "source": [
        "#Loop while the object function convergence \n",
        "\n",
        "for i in range(150000):\n",
        "  j = object_function(m, over_lambda)\n",
        "  gradient_descent(m, over_lambda)\n",
        "  new_j = object_function(m, over_lambda)\n",
        "  acc = training_accuracy()\n",
        "\n",
        "  over_e_values.append(new_j)\n",
        "  over_acc_values.append(acc)\n",
        "  print(new_j)\n",
        "z_over = g_function(xx, yy)\n",
        "\n",
        "for i in range(150000):\n",
        "  theta = np.zeros((10,10))\n",
        "  j = object_function(m, fit_lambda)\n",
        "  gradient_descent(m, fit_lambda)\n",
        "  new_j = object_function(m, fit_lambda)\n",
        "  acc = training_accuracy()\n",
        "  print(new_j)\n",
        "  fit_e_values.append(new_j)\n",
        "  fit_acc_values.append(acc)\n",
        "z_fit = g_function(xx, yy)\n",
        "\n",
        "for i in range(150000):\n",
        "  theta = np.zeros((10,10))\n",
        "  j = object_function(m, under_lambda)\n",
        "  gradient_descent(m, under_lambda)\n",
        "  new_j = object_function(m, under_lambda)\n",
        "  acc = training_accuracy()\n",
        "  print(new_j)\n",
        "  under_e_values.append(new_j)\n",
        "  under_acc_values.append(acc)  \n",
        "z_under = g_function(xx, yy)"
      ],
      "execution_count": 0,
      "outputs": []
    },
    {
      "cell_type": "code",
      "metadata": {
        "id": "vj7ftovnb57-",
        "colab_type": "code",
        "colab": {}
      },
      "source": [
        "#Plot the training data\n",
        "plt.figure()\n",
        "plt.scatter(pointX0, pointY0, c='b')\n",
        "plt.scatter(pointX1, pointY1, c='r')\n",
        "plt.tight_layout()\n",
        "plt.gca().set_aspect('equal', adjustable='box')\n",
        "plt.show()"
      ],
      "execution_count": 0,
      "outputs": []
    },
    {
      "cell_type": "code",
      "metadata": {
        "id": "uIgskJ6scGix",
        "colab_type": "code",
        "colab": {}
      },
      "source": [
        "#plotting training errors\n",
        "over_e_values = np.array(over_e_values)\n",
        "fit_e_values = np.array(fit_e_values)\n",
        "under_e_values = np.array(under_e_values)\n",
        "plt.title('Training Errors')\n",
        "plt.plot(over_e_values,'r')\n",
        "plt.plot(fit_e_values, 'g')\n",
        "plt.plot(under_e_values, 'b')\n",
        "\n",
        "plt.show()"
      ],
      "execution_count": 0,
      "outputs": []
    },
    {
      "cell_type": "code",
      "metadata": {
        "id": "1EbrGZAncHLa",
        "colab_type": "code",
        "colab": {}
      },
      "source": [
        "#Display the values of the chosen regularization parameters\n",
        "\n",
        "print('\\033[31m' +'over fitting lambda : ' + str(over_lambda) + '\\033[0m') \n",
        "print('\\033[32m' +'just right lambda : '+ str(fit_lambda) + '\\033[0m') \n",
        "print('\\033[34m' +'under fitting lambda : ' str(under_lambda) + '\\033[0m')"
      ],
      "execution_count": 0,
      "outputs": []
    },
    {
      "cell_type": "code",
      "metadata": {
        "id": "jUcuIUFycHNt",
        "colab_type": "code",
        "colab": {}
      },
      "source": [
        "#Plot the training accuracy\n",
        "over_acc_values = np.array(over_acc_values)\n",
        "fit_acc_values = np.array(fit_acc_values)\n",
        "under_acc_values = np.array(under_acc_values)\n",
        "\n",
        "plt.title('Training accuracy')\n",
        "plt.plot(over_acc_values,'r')\n",
        "plt.plot(fit_acc_values,'g')\n",
        "plt.plot(under_acc_values,'b')\n",
        "\n",
        "plt.show()"
      ],
      "execution_count": 0,
      "outputs": []
    },
    {
      "cell_type": "code",
      "metadata": {
        "id": "Hb-7ST71cHQL",
        "colab_type": "code",
        "colab": {}
      },
      "source": [
        "#The final training accuracy\n",
        "over_accuracy = over_acc_values[-1]\n",
        "fit_accuracy = fit_acc_values[-1]\n",
        "under_accuracy = under_acc_values[-1]\n",
        "\n",
        "print('\\033[31m' +'over fitting accuracy : ' + str(over_accuracy*100)+'%' + '\\033[0m') \n",
        "print('\\033[32m' +'just right accuracy : '+ str(fit_accuracy*100)+'%' + '\\033[0m') \n",
        "print('\\033[34m' +'under fitting accuracy : ' str(under_accuracy*100)+'%' + '\\033[0m')"
      ],
      "execution_count": 0,
      "outputs": []
    },
    {
      "cell_type": "code",
      "metadata": {
        "id": "kGHFMhMRcHSO",
        "colab_type": "code",
        "colab": {}
      },
      "source": [
        "#Plot the optimal classifier superimposed on the training data \n",
        "plt.contour(xx, yy, z_over, levels=[0], colors='red')\n",
        "plt.contour(xx, yy, z_fit, levels=[0], colors='green')\n",
        "plt.contour(xx, yy, z_under, levels=[0], colors='blue')\n",
        "\n",
        "plt.axis(\"tight\")\n",
        "\n",
        "#Plot the training data\n",
        "plt.scatter(pointX0, pointY0, c='b')\n",
        "plt.scatter(pointX1, pointY1, c='r')\n",
        "plt.title('The obtained classifier')\n",
        "plt.show()"
      ],
      "execution_count": 0,
      "outputs": []
    }
  ]
}