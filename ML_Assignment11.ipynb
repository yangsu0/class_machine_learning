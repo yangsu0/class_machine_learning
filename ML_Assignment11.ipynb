{
  "nbformat": 4,
  "nbformat_minor": 0,
  "metadata": {
    "colab": {
      "name": "ML_Assignment11.ipynb",
      "provenance": [],
      "collapsed_sections": [],
      "authorship_tag": "ABX9TyNxS3tyYQtKVz+WEKYdwZpG",
      "include_colab_link": true
    },
    "kernelspec": {
      "name": "python3",
      "display_name": "Python 3"
    }
  },
  "cells": [
    {
      "cell_type": "markdown",
      "metadata": {
        "id": "view-in-github",
        "colab_type": "text"
      },
      "source": [
        "<a href=\"https://colab.research.google.com/github/yangsu0/class_machine_learning/blob/master/ML_Assignment11.ipynb\" target=\"_parent\"><img src=\"https://colab.research.google.com/assets/colab-badge.svg\" alt=\"Open In Colab\"/></a>"
      ]
    },
    {
      "cell_type": "code",
      "metadata": {
        "id": "x15_zxBjRgPK",
        "colab_type": "code",
        "colab": {
          "base_uri": "https://localhost:8080/",
          "height": 85
        },
        "outputId": "5fdfb80a-c101-442b-e7b0-0cf90e778c05"
      },
      "source": [
        "import numpy as np\n",
        "import re\n",
        "import nltk\n",
        "from sklearn.datasets import load_files\n",
        "nltk.download('stopwords')\n",
        "nltk.download('wordnet')\n",
        "import pickle\n",
        "from nltk.corpus import stopwords\n",
        "from nltk.stem import WordNetLemmatizer\n",
        "from sklearn.feature_extraction.text import CountVectorizer\n",
        "from sklearn.feature_extraction.text import TfidfTransformer\n",
        "from sklearn.model_selection import train_test_split\n",
        "\n",
        "review_data = load_files(r\"movie_review\")\n",
        "X, y = review_data.data, review_data.target\n",
        "\n",
        "documents = []\n",
        "\n",
        "stemmer = WordNetLemmatizer()\n",
        "\n",
        "for sen in range(0, len(X)):\n",
        "    # Remove all the special characters\n",
        "    document = re.sub(r'\\W', ' ', str(X[sen]))\n",
        "    \n",
        "    # remove all single characters\n",
        "    document = re.sub(r'\\s+[a-zA-Z]\\s+', ' ', document)\n",
        "    \n",
        "    # Remove single characters from the start\n",
        "    document = re.sub(r'\\^[a-zA-Z]\\s+', ' ', document) \n",
        "    \n",
        "    # Substituting multiple spaces with single space\n",
        "    document = re.sub(r'\\s+', ' ', document, flags=re.I)\n",
        "    \n",
        "    # Removing prefixed 'b'\n",
        "    document = re.sub(r'^b\\s+', '', document)\n",
        "    \n",
        "    # Converting to Lowercase\n",
        "    document = document.lower()\n",
        "    \n",
        "    # Lemmatization\n",
        "    document = document.split()\n",
        "    document = [stemmer.lemmatize(word) for word in document]\n",
        "    document = ' '.join(document)\n",
        "    \n",
        "    documents.append(document)\n",
        "\n",
        "vectorizer = CountVectorizer(max_features=1500, min_df=5, max_df=0.7, stop_words=stopwords.words('english'))\n",
        "X = vectorizer.fit_transform(documents).toarray()\n",
        "\n",
        "tfidfconverter = TfidfTransformer()\n",
        "X = tfidfconverter.fit_transform(X).toarray()\n",
        "\n",
        "X_train, X_test, y_train, y_test = train_test_split(X, y, test_size=0.3, shuffle=False) #x = vector, y=label\n",
        "\n",
        "\n",
        "#(1401, 1500), (601, 1500), (1401,), (601,)\n",
        "y_train = y_train.reshape((-1, 1))\n",
        "y_test = y_test.reshape((-1,1))\n",
        "X_train = X_train.T\n",
        "X_test = X_test.T\n",
        "y_train = y_train.T\n",
        "y_test = y_test.T"
      ],
      "execution_count": 10,
      "outputs": [
        {
          "output_type": "stream",
          "text": [
            "[nltk_data] Downloading package stopwords to /root/nltk_data...\n",
            "[nltk_data]   Package stopwords is already up-to-date!\n",
            "[nltk_data] Downloading package wordnet to /root/nltk_data...\n",
            "[nltk_data]   Package wordnet is already up-to-date!\n"
          ],
          "name": "stdout"
        }
      ]
    },
    {
      "cell_type": "code",
      "metadata": {
        "id": "uXTi7D8MWv05",
        "colab_type": "code",
        "colab": {}
      },
      "source": [
        "#weight & bias parameters\n",
        "\n",
        "u=np.random.randn(60,1500)\n",
        "v=np.random.randn(1,60)\n",
        "\n",
        "b1 = np.zeros((60, 1))\n",
        "b2 = np.zeros((1, 1))\n",
        "\n",
        "lamb = 0.725"
      ],
      "execution_count": 0,
      "outputs": []
    },
    {
      "cell_type": "code",
      "metadata": {
        "id": "uzKxRa_1Wvve",
        "colab_type": "code",
        "colab": {}
      },
      "source": [
        "#define functions\n",
        "def sigmoid(z):\n",
        "  return 1/(1+np.exp(-z))\n",
        "\n",
        "def sigmoid_prime(z):\n",
        "  return sigmoid(z) * (1 - sigmoid(z))\n",
        "\n",
        "def object_func(label, sig):\n",
        "  n = len(u)*len(u[0]) + len(v)*len(v[0])\n",
        "  return -np.mean(label*np.log(sig) + (1-label)*np.log(1-sig)) + (lamb/(2*n))*(np.sum(np.square(u)) + np.sum(np.square(v)))"
      ],
      "execution_count": 0,
      "outputs": []
    },
    {
      "cell_type": "code",
      "metadata": {
        "id": "3Htss1EgWvqH",
        "colab_type": "code",
        "colab": {}
      },
      "source": [
        "loss_train_list = []\n",
        "loss_test_list = []\n",
        "acc_train_list = []\n",
        "acc_test_list = []\n",
        "u_list = []\n",
        "v_list = []\n",
        "\n",
        "b1_list = []\n",
        "b2_list = []\n"
      ],
      "execution_count": 0,
      "outputs": []
    },
    {
      "cell_type": "code",
      "metadata": {
        "id": "FPVkXspmWvlr",
        "colab_type": "code",
        "colab": {}
      },
      "source": [
        "#y' = u*x\n",
        "#y = sigmoid(y')\n",
        "#z' = v*y\n",
        "#z = sigmoid(z')\n",
        "\n",
        "\n",
        "def gradient(z_,y_,z,y):\n",
        "  n = len(u)*len(u[0]) + len(v)*len(v[0]) \n",
        "  dz = (z-y_train)/z*(1-z)\n",
        "  dz_ = np.multiply(dz, sigmoid_prime(z_))\n",
        "  dv = (1/1401)* np.dot(dz_,z.T)+(1/n)*(lamb)*v\n",
        "  db2 = (1/1401)* np.sum(dz_, axis=1, keepdims=True)\n",
        "  dy = np.dot(v.T,dz_)\n",
        "  dy_ = np.multiply(dy, sigmoid_prime(y_))\n",
        "  du = (1/1401)* np.dot(dy_,X_train.T)+(1/n)*(lamb)*u\n",
        "  db1 = (1/1401)* np.sum(dy_, axis=1, keepdims=True)\n",
        "\n",
        "  return du, dv, db1, db2"
      ],
      "execution_count": 0,
      "outputs": []
    },
    {
      "cell_type": "code",
      "metadata": {
        "id": "lyq_TrKfWvhF",
        "colab_type": "code",
        "colab": {}
      },
      "source": [
        "def accuracy(label, sig):\n",
        "  data_len = label.shape[1]\n",
        "  cnt = 0\n",
        "\n",
        "  for i in range(data_len):\n",
        "    if sig[:,i] < 0.5:\n",
        "      l = 0\n",
        "    elif sig[:,i] >= 0.5:\n",
        "      l = 1\n",
        "    if label[:,i] == l:\n",
        "      cnt += 1\n",
        "  return (cnt/data_len) * 100"
      ],
      "execution_count": 0,
      "outputs": []
    },
    {
      "cell_type": "code",
      "metadata": {
        "id": "t_qe-rLUW5XY",
        "colab_type": "code",
        "colab": {}
      },
      "source": [
        ""
      ],
      "execution_count": 0,
      "outputs": []
    },
    {
      "cell_type": "code",
      "metadata": {
        "id": "42Un4ppGW5SF",
        "colab_type": "code",
        "colab": {}
      },
      "source": [
        ""
      ],
      "execution_count": 0,
      "outputs": []
    },
    {
      "cell_type": "code",
      "metadata": {
        "id": "HKh5fh1FW5NK",
        "colab_type": "code",
        "colab": {}
      },
      "source": [
        ""
      ],
      "execution_count": 0,
      "outputs": []
    }
  ]
}