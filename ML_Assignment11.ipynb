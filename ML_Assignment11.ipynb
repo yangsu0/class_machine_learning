{
  "nbformat": 4,
  "nbformat_minor": 0,
  "metadata": {
    "colab": {
      "name": "ML_Assignment11.ipynb",
      "provenance": [],
      "collapsed_sections": [],
      "authorship_tag": "ABX9TyNrIO4GHS/ObJLP3lFHzGRQ",
      "include_colab_link": true
    },
    "kernelspec": {
      "name": "python3",
      "display_name": "Python 3"
    }
  },
  "cells": [
    {
      "cell_type": "markdown",
      "metadata": {
        "id": "view-in-github",
        "colab_type": "text"
      },
      "source": [
        "<a href=\"https://colab.research.google.com/github/yangsu0/class_machine_learning/blob/master/ML_Assignment11.ipynb\" target=\"_parent\"><img src=\"https://colab.research.google.com/assets/colab-badge.svg\" alt=\"Open In Colab\"/></a>"
      ]
    },
    {
      "cell_type": "code",
      "metadata": {
        "id": "x15_zxBjRgPK",
        "colab_type": "code",
        "colab": {
          "base_uri": "https://localhost:8080/",
          "height": 85
        },
        "outputId": "94c397f3-79b2-4c3d-aef2-9293c0d852eb"
      },
      "source": [
        "import numpy as np\n",
        "import re\n",
        "import nltk\n",
        "from sklearn.datasets import load_files\n",
        "nltk.download('stopwords')\n",
        "nltk.download('wordnet')\n",
        "import pickle\n",
        "from nltk.corpus import stopwords\n",
        "from nltk.stem import WordNetLemmatizer\n",
        "from sklearn.feature_extraction.text import CountVectorizer\n",
        "from sklearn.feature_extraction.text import TfidfTransformer\n",
        "from sklearn.model_selection import train_test_split\n",
        "\n",
        "review_data = load_files(r\"movie_review\")\n",
        "X, y = review_data.data, review_data.target\n",
        "\n",
        "documents = []\n",
        "\n",
        "stemmer = WordNetLemmatizer()\n",
        "\n",
        "for sen in range(0, len(X)):\n",
        "    # Remove all the special characters\n",
        "    document = re.sub(r'\\W', ' ', str(X[sen]))\n",
        "    \n",
        "    # remove all single characters\n",
        "    document = re.sub(r'\\s+[a-zA-Z]\\s+', ' ', document)\n",
        "    \n",
        "    # Remove single characters from the start\n",
        "    document = re.sub(r'\\^[a-zA-Z]\\s+', ' ', document) \n",
        "    \n",
        "    # Substituting multiple spaces with single space\n",
        "    document = re.sub(r'\\s+', ' ', document, flags=re.I)\n",
        "    \n",
        "    # Removing prefixed 'b'\n",
        "    document = re.sub(r'^b\\s+', '', document)\n",
        "    \n",
        "    # Converting to Lowercase\n",
        "    document = document.lower()\n",
        "    \n",
        "    # Lemmatization\n",
        "    document = document.split()\n",
        "    document = [stemmer.lemmatize(word) for word in document]\n",
        "    document = ' '.join(document)\n",
        "    \n",
        "    documents.append(document)\n",
        "\n",
        "vectorizer = CountVectorizer(max_features=1500, min_df=5, max_df=0.7, stop_words=stopwords.words('english'))\n",
        "X = vectorizer.fit_transform(documents).toarray()\n",
        "\n",
        "tfidfconverter = TfidfTransformer()\n",
        "X = tfidfconverter.fit_transform(X).toarray()\n",
        "\n",
        "X_train, X_test, y_train, y_test = train_test_split(X, y, test_size=0.3, shuffle=False) #x = vector, y=label\n",
        "\n",
        "\n",
        "#(1401, 1500), (601, 1500), (1401,), (601,)\n",
        "y_train = y_train.reshape((-1, 1))\n",
        "y_test = y_test.reshape((-1,1))\n",
        "X_train = X_train.T\n",
        "X_test = X_test.T\n",
        "y_train = y_train.T\n",
        "y_test = y_test.T"
      ],
      "execution_count": 28,
      "outputs": [
        {
          "output_type": "stream",
          "text": [
            "[nltk_data] Downloading package stopwords to /root/nltk_data...\n",
            "[nltk_data]   Package stopwords is already up-to-date!\n",
            "[nltk_data] Downloading package wordnet to /root/nltk_data...\n",
            "[nltk_data]   Package wordnet is already up-to-date!\n"
          ],
          "name": "stdout"
        }
      ]
    },
    {
      "cell_type": "code",
      "metadata": {
        "id": "uXTi7D8MWv05",
        "colab_type": "code",
        "colab": {}
      },
      "source": [
        "#weight & bias parameters\n",
        "\n",
        "u=np.random.randn(60,1500)\n",
        "v=np.random.randn(1,60)\n",
        "\n",
        "b1 = np.zeros((60, 1))\n",
        "b2 = np.zeros((1, 1))\n",
        "\n",
        "lamb = 0.725"
      ],
      "execution_count": 0,
      "outputs": []
    },
    {
      "cell_type": "code",
      "metadata": {
        "id": "uzKxRa_1Wvve",
        "colab_type": "code",
        "colab": {}
      },
      "source": [
        "#define functions\n",
        "def sigmoid(z):\n",
        "  return 1/(1+np.exp(-z))\n",
        "\n",
        "def sigmoid_prime(z):\n",
        "  return sigmoid(z) * (1 - sigmoid(z))\n",
        "\n",
        "def object_func(label, sig):\n",
        "  n = len(u)*len(u[0]) + len(v)*len(v[0])\n",
        "  return -np.mean(label*np.log(sig) + (1-label)*np.log(1-sig)) + (lamb/(2*n))*(np.sum(np.square(u)) + np.sum(np.square(v)))"
      ],
      "execution_count": 0,
      "outputs": []
    },
    {
      "cell_type": "code",
      "metadata": {
        "id": "3Htss1EgWvqH",
        "colab_type": "code",
        "colab": {}
      },
      "source": [
        "loss_train_list = []\n",
        "loss_test_list = []\n",
        "acc_train_list = []\n",
        "acc_test_list = []\n",
        "u_list = []\n",
        "v_list = []\n",
        "\n",
        "b1_list = []\n",
        "b2_list = []\n"
      ],
      "execution_count": 0,
      "outputs": []
    },
    {
      "cell_type": "code",
      "metadata": {
        "id": "FPVkXspmWvlr",
        "colab_type": "code",
        "colab": {}
      },
      "source": [
        "#y' = u*x\n",
        "#y = sigmoid(y')\n",
        "#z' = v*y\n",
        "#z = sigmoid(z')\n",
        "\n",
        "\n",
        "def gradient(z_,y_,z,y):\n",
        "  n = len(u)*len(u[0]) + len(v)*len(v[0]) \n",
        "  dz = (z-y_train)/z*(1-z)\n",
        "  dz_ = np.multiply(dz, sigmoid_prime(z_))\n",
        "  dv = (1/1401)* np.dot(dz_,z.T)+(1/n)*(lamb)*v\n",
        "  db2 = (1/1401)* np.sum(dz_, axis=1, keepdims=True)\n",
        "  dy = np.dot(v.T,dz_)\n",
        "  dy_ = np.multiply(dy, sigmoid_prime(y_))\n",
        "  du = (1/1401)* np.dot(dy_,X_train.T)+(1/n)*(lamb)*u\n",
        "  db1 = (1/1401)* np.sum(dy_, axis=1, keepdims=True)\n",
        "\n",
        "  return du, dv, db1, db2"
      ],
      "execution_count": 0,
      "outputs": []
    },
    {
      "cell_type": "code",
      "metadata": {
        "id": "lyq_TrKfWvhF",
        "colab_type": "code",
        "colab": {}
      },
      "source": [
        "def accuracy(label, sig):\n",
        "  data_len = label.shape[1]\n",
        "  cnt = 0\n",
        "\n",
        "  for i in range(data_len):\n",
        "    if sig[:,i] < 0.5:\n",
        "      l = 0\n",
        "    elif sig[:,i] >= 0.5:\n",
        "      l = 1\n",
        "    if label[:,i] == l:\n",
        "      cnt += 1\n",
        "  return (cnt/data_len) * 100"
      ],
      "execution_count": 0,
      "outputs": []
    },
    {
      "cell_type": "code",
      "metadata": {
        "id": "t_qe-rLUW5XY",
        "colab_type": "code",
        "colab": {
          "base_uri": "https://localhost:8080/",
          "height": 1000
        },
        "outputId": "6fffa6cf-40a5-4706-bf1e-e405c8f56291"
      },
      "source": [
        "step_size = 0.425\n",
        "\n",
        "#Loop while the object function convergence \n",
        "past_loss = 0\n",
        "\n",
        "while(1): \n",
        "  y_ = np.dot(u, X_train) + b1\n",
        "  z_ = np.dot(v, sigmoid(y_)) + b2\n",
        "\n",
        "  loss = object_func(y_train, sigmoid(z_))\n",
        "  loss_train_list.append(loss)\n",
        "  acc = accuracy(y_train, sigmoid(z_))\n",
        "  acc_train_list.append(acc)\n",
        "  newu, newv, nb1, nb2 = gradient(z_,y_,sigmoid(z_), sigmoid(y_))\n",
        "  \n",
        "  y_t = np.dot(u, X_test) + b1\n",
        "  z_t = np.dot(v, sigmoid(y_t)) + b2\n",
        "\n",
        "  loss_test = object_func(y_test, sigmoid(z_t))\n",
        "  loss_test_list.append(loss_test)\n",
        "  acc_test = accuracy(y_test, sigmoid(z_t))\n",
        "  print(acc_test)\n",
        "\n",
        "  acc_test_list.append(acc_test)\n",
        "\n",
        "  u -= step_size * newu\n",
        "  v -= step_size * newv\n",
        "\n",
        "  b1 -= step_size * nb1\n",
        "  b2 -= step_size * nb2\n",
        "\n",
        "\n",
        "  u_list.append(u)\n",
        "  v_list.append(v)\n",
        "\n",
        "  b1_list.append(b1)\n",
        "  b2_list.append(b2)\n",
        "\n",
        "  #until convergence\n",
        "#    print(loss)\n",
        "  if abs(loss-past_loss) < 0.0000000000000000001:\n",
        "    break\n",
        "  past_loss = loss"
      ],
      "execution_count": 34,
      "outputs": [
        {
          "output_type": "stream",
          "text": [
            "50.74875207986689\n",
            "53.244592346089846\n",
            "54.742096505823625\n",
            "52.911813643926784\n",
            "52.911813643926784\n",
            "52.911813643926784\n",
            "52.412645590682196\n",
            "52.57903494176372\n",
            "52.412645590682196\n",
            "52.74542429284526\n",
            "52.74542429284526\n",
            "51.58069883527454\n",
            "51.24792013311148\n",
            "51.9134775374376\n",
            "52.079866888519135\n",
            "52.412645590682196\n",
            "52.57903494176372\n",
            "52.412645590682196\n",
            "52.24625623960066\n",
            "52.24625623960066\n",
            "51.74708818635607\n",
            "51.9134775374376\n",
            "51.9134775374376\n",
            "51.9134775374376\n",
            "51.74708818635607\n",
            "51.9134775374376\n",
            "51.58069883527454\n",
            "51.41430948419301\n",
            "51.58069883527454\n",
            "51.9134775374376\n",
            "51.9134775374376\n",
            "51.9134775374376\n",
            "52.079866888519135\n",
            "52.079866888519135\n",
            "52.079866888519135\n",
            "52.079866888519135\n",
            "52.24625623960066\n",
            "52.24625623960066\n",
            "52.24625623960066\n",
            "52.24625623960066\n",
            "52.24625623960066\n",
            "52.24625623960066\n",
            "52.24625623960066\n",
            "52.24625623960066\n",
            "52.24625623960066\n",
            "52.24625623960066\n",
            "52.24625623960066\n",
            "52.24625623960066\n",
            "52.24625623960066\n",
            "52.24625623960066\n",
            "52.24625623960066\n",
            "52.24625623960066\n",
            "52.412645590682196\n",
            "52.412645590682196\n",
            "52.24625623960066\n",
            "52.24625623960066\n",
            "52.24625623960066\n",
            "52.24625623960066\n",
            "52.24625623960066\n",
            "52.24625623960066\n",
            "52.24625623960066\n",
            "52.24625623960066\n",
            "52.24625623960066\n",
            "52.24625623960066\n",
            "52.24625623960066\n",
            "52.24625623960066\n",
            "52.24625623960066\n",
            "52.24625623960066\n",
            "52.24625623960066\n",
            "52.24625623960066\n",
            "52.24625623960066\n",
            "52.24625623960066\n",
            "52.24625623960066\n",
            "52.24625623960066\n",
            "52.24625623960066\n",
            "52.24625623960066\n",
            "52.24625623960066\n",
            "52.24625623960066\n",
            "52.24625623960066\n",
            "52.24625623960066\n",
            "52.24625623960066\n",
            "52.24625623960066\n",
            "52.24625623960066\n",
            "52.24625623960066\n",
            "52.24625623960066\n",
            "52.079866888519135\n",
            "52.079866888519135\n",
            "52.079866888519135\n",
            "52.079866888519135\n",
            "52.079866888519135\n",
            "52.079866888519135\n",
            "52.079866888519135\n",
            "51.9134775374376\n",
            "51.9134775374376\n",
            "51.9134775374376\n",
            "51.9134775374376\n",
            "51.9134775374376\n",
            "51.9134775374376\n",
            "51.9134775374376\n",
            "51.9134775374376\n",
            "51.9134775374376\n",
            "51.9134775374376\n",
            "51.9134775374376\n",
            "52.079866888519135\n",
            "52.079866888519135\n",
            "52.079866888519135\n",
            "52.079866888519135\n",
            "52.079866888519135\n",
            "52.079866888519135\n",
            "52.079866888519135\n",
            "52.079866888519135\n",
            "52.079866888519135\n",
            "52.079866888519135\n",
            "52.079866888519135\n",
            "52.24625623960066\n",
            "52.24625623960066\n",
            "52.24625623960066\n",
            "52.24625623960066\n",
            "52.24625623960066\n",
            "52.24625623960066\n",
            "52.24625623960066\n",
            "52.24625623960066\n",
            "52.079866888519135\n",
            "52.079866888519135\n",
            "52.24625623960066\n",
            "52.24625623960066\n",
            "52.24625623960066\n",
            "52.24625623960066\n",
            "52.24625623960066\n",
            "52.24625623960066\n",
            "52.24625623960066\n",
            "52.24625623960066\n",
            "52.24625623960066\n",
            "52.24625623960066\n",
            "52.24625623960066\n",
            "52.24625623960066\n",
            "52.24625623960066\n",
            "52.24625623960066\n",
            "52.24625623960066\n",
            "52.24625623960066\n",
            "52.24625623960066\n",
            "52.24625623960066\n",
            "52.24625623960066\n",
            "52.412645590682196\n",
            "52.412645590682196\n",
            "52.412645590682196\n",
            "52.412645590682196\n",
            "52.412645590682196\n",
            "52.412645590682196\n",
            "52.412645590682196\n",
            "52.412645590682196\n",
            "52.412645590682196\n",
            "52.412645590682196\n",
            "52.412645590682196\n",
            "52.412645590682196\n",
            "52.412645590682196\n",
            "52.412645590682196\n",
            "52.412645590682196\n",
            "52.412645590682196\n",
            "52.412645590682196\n",
            "52.412645590682196\n",
            "52.412645590682196\n",
            "52.412645590682196\n",
            "52.412645590682196\n",
            "52.412645590682196\n",
            "52.57903494176372\n",
            "52.57903494176372\n",
            "52.57903494176372\n",
            "52.74542429284526\n",
            "52.74542429284526\n",
            "52.74542429284526\n",
            "52.74542429284526\n",
            "52.74542429284526\n",
            "52.74542429284526\n"
          ],
          "name": "stdout"
        },
        {
          "output_type": "error",
          "ename": "KeyboardInterrupt",
          "evalue": "ignored",
          "traceback": [
            "\u001b[0;31m---------------------------------------------------------------------------\u001b[0m",
            "\u001b[0;31mKeyboardInterrupt\u001b[0m                         Traceback (most recent call last)",
            "\u001b[0;32m<ipython-input-34-939980a48d75>\u001b[0m in \u001b[0;36m<module>\u001b[0;34m()\u001b[0m\n\u001b[1;32m     12\u001b[0m   \u001b[0macc\u001b[0m \u001b[0;34m=\u001b[0m \u001b[0maccuracy\u001b[0m\u001b[0;34m(\u001b[0m\u001b[0my_train\u001b[0m\u001b[0;34m,\u001b[0m \u001b[0msigmoid\u001b[0m\u001b[0;34m(\u001b[0m\u001b[0mz_\u001b[0m\u001b[0;34m)\u001b[0m\u001b[0;34m)\u001b[0m\u001b[0;34m\u001b[0m\u001b[0;34m\u001b[0m\u001b[0m\n\u001b[1;32m     13\u001b[0m   \u001b[0macc_train_list\u001b[0m\u001b[0;34m.\u001b[0m\u001b[0mappend\u001b[0m\u001b[0;34m(\u001b[0m\u001b[0macc\u001b[0m\u001b[0;34m)\u001b[0m\u001b[0;34m\u001b[0m\u001b[0;34m\u001b[0m\u001b[0m\n\u001b[0;32m---> 14\u001b[0;31m   \u001b[0mnewu\u001b[0m\u001b[0;34m,\u001b[0m \u001b[0mnewv\u001b[0m\u001b[0;34m,\u001b[0m \u001b[0mnb1\u001b[0m\u001b[0;34m,\u001b[0m \u001b[0mnb2\u001b[0m \u001b[0;34m=\u001b[0m \u001b[0mgradient\u001b[0m\u001b[0;34m(\u001b[0m\u001b[0mz_\u001b[0m\u001b[0;34m,\u001b[0m\u001b[0my_\u001b[0m\u001b[0;34m,\u001b[0m\u001b[0msigmoid\u001b[0m\u001b[0;34m(\u001b[0m\u001b[0mz_\u001b[0m\u001b[0;34m)\u001b[0m\u001b[0;34m,\u001b[0m \u001b[0msigmoid\u001b[0m\u001b[0;34m(\u001b[0m\u001b[0my_\u001b[0m\u001b[0;34m)\u001b[0m\u001b[0;34m)\u001b[0m\u001b[0;34m\u001b[0m\u001b[0;34m\u001b[0m\u001b[0m\n\u001b[0m\u001b[1;32m     15\u001b[0m \u001b[0;34m\u001b[0m\u001b[0m\n\u001b[1;32m     16\u001b[0m   \u001b[0my_t\u001b[0m \u001b[0;34m=\u001b[0m \u001b[0mnp\u001b[0m\u001b[0;34m.\u001b[0m\u001b[0mdot\u001b[0m\u001b[0;34m(\u001b[0m\u001b[0mu\u001b[0m\u001b[0;34m,\u001b[0m \u001b[0mX_test\u001b[0m\u001b[0;34m)\u001b[0m \u001b[0;34m+\u001b[0m \u001b[0mb1\u001b[0m\u001b[0;34m\u001b[0m\u001b[0;34m\u001b[0m\u001b[0m\n",
            "\u001b[0;32m<ipython-input-32-e1f6395a3a88>\u001b[0m in \u001b[0;36mgradient\u001b[0;34m(z_, y_, z, y)\u001b[0m\n\u001b[1;32m     13\u001b[0m   \u001b[0mdy\u001b[0m \u001b[0;34m=\u001b[0m \u001b[0mnp\u001b[0m\u001b[0;34m.\u001b[0m\u001b[0mdot\u001b[0m\u001b[0;34m(\u001b[0m\u001b[0mv\u001b[0m\u001b[0;34m.\u001b[0m\u001b[0mT\u001b[0m\u001b[0;34m,\u001b[0m\u001b[0mdz_\u001b[0m\u001b[0;34m)\u001b[0m\u001b[0;34m\u001b[0m\u001b[0;34m\u001b[0m\u001b[0m\n\u001b[1;32m     14\u001b[0m   \u001b[0mdy_\u001b[0m \u001b[0;34m=\u001b[0m \u001b[0mnp\u001b[0m\u001b[0;34m.\u001b[0m\u001b[0mmultiply\u001b[0m\u001b[0;34m(\u001b[0m\u001b[0mdy\u001b[0m\u001b[0;34m,\u001b[0m \u001b[0msigmoid_prime\u001b[0m\u001b[0;34m(\u001b[0m\u001b[0my_\u001b[0m\u001b[0;34m)\u001b[0m\u001b[0;34m)\u001b[0m\u001b[0;34m\u001b[0m\u001b[0;34m\u001b[0m\u001b[0m\n\u001b[0;32m---> 15\u001b[0;31m   \u001b[0mdu\u001b[0m \u001b[0;34m=\u001b[0m \u001b[0;34m(\u001b[0m\u001b[0;36m1\u001b[0m\u001b[0;34m/\u001b[0m\u001b[0;36m1401\u001b[0m\u001b[0;34m)\u001b[0m\u001b[0;34m*\u001b[0m \u001b[0mnp\u001b[0m\u001b[0;34m.\u001b[0m\u001b[0mdot\u001b[0m\u001b[0;34m(\u001b[0m\u001b[0mdy_\u001b[0m\u001b[0;34m,\u001b[0m\u001b[0mX_train\u001b[0m\u001b[0;34m.\u001b[0m\u001b[0mT\u001b[0m\u001b[0;34m)\u001b[0m\u001b[0;34m+\u001b[0m\u001b[0;34m(\u001b[0m\u001b[0;36m1\u001b[0m\u001b[0;34m/\u001b[0m\u001b[0mn\u001b[0m\u001b[0;34m)\u001b[0m\u001b[0;34m*\u001b[0m\u001b[0;34m(\u001b[0m\u001b[0mlamb\u001b[0m\u001b[0;34m)\u001b[0m\u001b[0;34m*\u001b[0m\u001b[0mu\u001b[0m\u001b[0;34m\u001b[0m\u001b[0;34m\u001b[0m\u001b[0m\n\u001b[0m\u001b[1;32m     16\u001b[0m   \u001b[0mdb1\u001b[0m \u001b[0;34m=\u001b[0m \u001b[0;34m(\u001b[0m\u001b[0;36m1\u001b[0m\u001b[0;34m/\u001b[0m\u001b[0;36m1401\u001b[0m\u001b[0;34m)\u001b[0m\u001b[0;34m*\u001b[0m \u001b[0mnp\u001b[0m\u001b[0;34m.\u001b[0m\u001b[0msum\u001b[0m\u001b[0;34m(\u001b[0m\u001b[0mdy_\u001b[0m\u001b[0;34m,\u001b[0m \u001b[0maxis\u001b[0m\u001b[0;34m=\u001b[0m\u001b[0;36m1\u001b[0m\u001b[0;34m,\u001b[0m \u001b[0mkeepdims\u001b[0m\u001b[0;34m=\u001b[0m\u001b[0;32mTrue\u001b[0m\u001b[0;34m)\u001b[0m\u001b[0;34m\u001b[0m\u001b[0;34m\u001b[0m\u001b[0m\n\u001b[1;32m     17\u001b[0m \u001b[0;34m\u001b[0m\u001b[0m\n",
            "\u001b[0;32m<__array_function__ internals>\u001b[0m in \u001b[0;36mdot\u001b[0;34m(*args, **kwargs)\u001b[0m\n",
            "\u001b[0;31mKeyboardInterrupt\u001b[0m: "
          ]
        }
      ]
    },
    {
      "cell_type": "code",
      "metadata": {
        "id": "42Un4ppGW5SF",
        "colab_type": "code",
        "colab": {}
      },
      "source": [
        "def classifier(X_data):\n",
        "  y_ = np.dot(u_list[-1], X_data) + b1_list[-1]\n",
        "  z_ = np.dot(v_list[-1], sigmoid(y_)) + b2_list[-1]\n",
        "\n",
        "  z = sigmoid(z_)\n",
        "\n",
        "  label = []\n",
        "  data_len = X_data.shape[1]\n",
        "  for i in range(data_len):\n",
        "    if z[:,i] < 0.5:\n",
        "      l = 0\n",
        "    elif z[:,i] >= 0.5:\n",
        "      l = 1\n",
        "    label.append(l)\n",
        "\n",
        "  return label"
      ],
      "execution_count": 0,
      "outputs": []
    },
    {
      "cell_type": "code",
      "metadata": {
        "id": "HKh5fh1FW5NK",
        "colab_type": "code",
        "colab": {}
      },
      "source": [
        "y_pred_train = classifier(X_train)\n",
        "y_pred_test = classifier(X_test)"
      ],
      "execution_count": 0,
      "outputs": []
    },
    {
      "cell_type": "code",
      "metadata": {
        "id": "-GsuL4knXfOP",
        "colab_type": "code",
        "colab": {
          "base_uri": "https://localhost:8080/",
          "height": 281
        },
        "outputId": "0ec24ea4-9835-4e32-8a57-a3fe260a64f0"
      },
      "source": [
        "import matplotlib.pyplot as plt\n",
        "#Plot the loss curve\n",
        "loss_train_list = np.array(loss_train_list)\n",
        "loss_test_list = np.array(loss_test_list)\n",
        "\n",
        "plt.title('Loss Curve')\n",
        "plt.plot(loss_train_list,'b')\n",
        "plt.plot(loss_test_list, 'r')\n",
        "\n",
        "plt.show()"
      ],
      "execution_count": 37,
      "outputs": [
        {
          "output_type": "display_data",
          "data": {
            "image/png": "[encoded data removed]",
            "text/plain": [
              "<Figure size 432x288 with 1 Axes>"
            ]
          },
          "metadata": {
            "tags": [],
            "needs_background": "light"
          }
        }
      ]
    },
    {
      "cell_type": "code",
      "metadata": {
        "id": "p__JUbFmXfJ_",
        "colab_type": "code",
        "colab": {
          "base_uri": "https://localhost:8080/",
          "height": 281
        },
        "outputId": "8875d3cd-9220-4e71-dbeb-4152b87d2466"
      },
      "source": [
        "#Plot the accuracy curve\n",
        "acc_train_list = np.array(acc_train_list)\n",
        "acc_test_list = np.array(acc_test_list)\n",
        "\n",
        "plt.title('Accuracy Curve')\n",
        "plt.plot(acc_train_list,'b')\n",
        "plt.plot(acc_test_list, 'r')\n",
        "\n",
        "plt.show()"
      ],
      "execution_count": 38,
      "outputs": [
        {
          "output_type": "display_data",
          "data": {
            "image/png": "[encoded data removed]",
            "text/plain": [
              "<Figure size 432x288 with 1 Axes>"
            ]
          },
          "metadata": {
            "tags": [],
            "needs_background": "light"
          }
        }
      ]
    },
    {
      "cell_type": "code",
      "metadata": {
        "id": "SJhe1thnXfFG",
        "colab_type": "code",
        "colab": {}
      },
      "source": [
        "from sklearn.metrics import classification_report, confusion_matrix, accuracy_score\n",
        "\n",
        "print(confusion_matrix(y_train.T,np.array(y_pred_train).T))\n",
        "print(classification_report(y_train.T,np.array(y_pred_train).T))\n",
        "print(accuracy_score(y_train.T, np.array(y_pred_train).T))\n",
        "\n",
        "print(confusion_matrix(y_test.T,np.array(y_pred_test).T))\n",
        "print(classification_report(y_test.T,np.array(y_pred_test).T))\n",
        "print(accuracy_score(y_test.T, np.array(y_pred_test).T))"
      ],
      "execution_count": 0,
      "outputs": []
    }
  ]
}