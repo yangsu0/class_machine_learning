{
  "nbformat": 4,
  "nbformat_minor": 0,
  "metadata": {
    "colab": {
      "name": "ML_Assignment4.ipynb",
      "provenance": [],
      "private_outputs": true,
      "collapsed_sections": [],
      "authorship_tag": "ABX9TyPcvikBQNSc0RYDgMAPA6bU",
      "include_colab_link": true
    },
    "kernelspec": {
      "name": "python3",
      "display_name": "Python 3"
    },
    "accelerator": "GPU"
  },
  "cells": [
    {
      "cell_type": "markdown",
      "metadata": {
        "id": "view-in-github",
        "colab_type": "text"
      },
      "source": [
        "<a href=\"https://colab.research.google.com/github/yangsu0/class_machine_learning/blob/master/ML_Assignment4.ipynb\" target=\"_parent\"><img src=\"https://colab.research.google.com/assets/colab-badge.svg\" alt=\"Open In Colab\"/></a>"
      ]
    },
    {
      "cell_type": "code",
      "metadata": {
        "id": "4HaN8_8WA8BW",
        "colab_type": "code",
        "colab": {}
      },
      "source": [
        "import csv\n",
        "import numpy as np \n",
        "from matplotlib import pyplot as plt \n",
        "\n",
        "#define train data\n",
        "x = np.empty(0)\n",
        "y = np.empty(0)\n",
        "z = np.empty(0)\n",
        "h = np.empty(0)\n",
        "\n",
        "with open('data_train.csv', newline='') as myfile:\n",
        "    reader  = csv.reader(myfile, delimiter=',')\n",
        "    ct = 1 \n",
        "    for i in reader:\n",
        "        x = np.append(x, float(i[0]))\n",
        "        y = np.append(y, float(i[1]))\n",
        "        z = np.append(z, float(i[2]))\n",
        "        h = np.append(h, float(i[3]))\n",
        "        print('[', ct, ']', 'x =', i[0], ', y = ', i[1], ', z = ', i[2], ', h = ', i[3])\n",
        "        ct += 1\n",
        "\n",
        "#define test data\n",
        "x_test = np.empty(0)\n",
        "y_test = np.empty(0)\n",
        "z_test = np.empty(0)\n",
        "h_test = np.empty(0)\n",
        "\n",
        "with open('data_test.csv', newline='') as myfile:\n",
        "    reader  = csv.reader(myfile, delimiter=',')\n",
        "    ct = 1 \n",
        "    for i in reader:\n",
        "        x_test = np.append(x_test, float(i[0]))\n",
        "        y_test = np.append(y_test, float(i[1]))\n",
        "        z_test = np.append(z_test, float(i[2]))\n",
        "        h_test = np.append(h_test, float(i[3]))\n",
        "        print('[', ct, ']', 'x_test =', i[0], ', y_test = ', i[1], ', z_test = ', i[2], ', h_test = ', i[3])\n",
        "        ct += 1\n"
      ],
      "execution_count": 0,
      "outputs": []
    },
    {
      "cell_type": "code",
      "metadata": {
        "id": "NU4R6sQA8OK2",
        "colab_type": "code",
        "colab": {}
      },
      "source": [
        "#initialize step_size and theta0,1,2,3\n",
        "\n",
        "step_size = 0.00002\n",
        "theta0 = 0\n",
        "theta1 = 0\n",
        "theta2 = 0\n",
        "theta3 = 0"
      ],
      "execution_count": 0,
      "outputs": []
    },
    {
      "cell_type": "code",
      "metadata": {
        "id": "qqBh-0lW8ONi",
        "colab_type": "code",
        "colab": {}
      },
      "source": [
        "#define linear model 'h'\n",
        "def func_h(theta0, theta1, theta2, theta3):\n",
        "  return theta0 + theta1 * x + theta2 * y + theta3 * z"
      ],
      "execution_count": 0,
      "outputs": []
    },
    {
      "cell_type": "code",
      "metadata": {
        "id": "5lSP_pWV8OQE",
        "colab_type": "code",
        "colab": {}
      },
      "source": [
        "#define object function 'j'\n",
        "def func_j(m, theta0, theta1, theta2, theta3, x, y, z, h):\n",
        "  return (1/(2*m)) * sum((theta0 + theta1 * x[i] + theta2  * y[i] + theta3 * z[i] - h[i])**2 for i in range(m))"
      ],
      "execution_count": 0,
      "outputs": []
    },
    {
      "cell_type": "code",
      "metadata": {
        "id": "fBKL7_u-8OSz",
        "colab_type": "code",
        "colab": {}
      },
      "source": [
        "e_values = []\n",
        "theta0_values = []\n",
        "theta1_values = []\n",
        "theta2_values = []\n",
        "theta3_values = []\n",
        "test_e_values = []"
      ],
      "execution_count": 0,
      "outputs": []
    },
    {
      "cell_type": "code",
      "metadata": {
        "id": "Wds8ERhR8OU1",
        "colab_type": "code",
        "colab": {}
      },
      "source": [
        "#Loop while the object function convergence \n",
        "\n",
        "while(1):\n",
        "  j = func_j(300, theta0, theta1, theta2, theta3, x, y, z, h)\n",
        "  \n",
        "  new_theta0 = theta0 - step_size * (1/300) * sum((func_h(theta0, theta1, theta2, theta3)[i] - h[i]) for i in range(300))\n",
        "  new_theta1 = theta1 - step_size * (1/300) * sum(((func_h(theta0, theta1, theta2, theta3)[i] - h[i]) * x[i]) for i in range(300))\n",
        "  new_theta2 = theta2 - step_size * (1/300) * sum(((func_h(theta0, theta1, theta2, theta3)[i] - h[i]) * y[i]) for i in range(300))\n",
        "  new_theta3 = theta3 - step_size * (1/300) * sum(((func_h(theta0, theta1, theta2, theta3)[i] - h[i]) * z[i]) for i in range(300))\n",
        "  \n",
        "  new_j = func_j(300, new_theta0, new_theta1, new_theta2, new_theta3, x, y, z, h)\n",
        "\n",
        "  e_values.append(new_j)\n",
        "  theta0_values.append(new_theta0)\n",
        "  theta1_values.append(new_theta1)\n",
        "  theta2_values.append(new_theta2)\n",
        "  theta3_values.append(new_theta3)\n",
        "\n",
        "  theta0 = new_theta0\n",
        "  theta1 = new_theta1\n",
        "  theta2 = new_theta2\n",
        "  theta3 = new_theta3\n",
        "\n",
        "  #until convergence\n",
        "  if abs(j-new_j) < 0.000001:\n",
        "    break"
      ],
      "execution_count": 0,
      "outputs": []
    },
    {
      "cell_type": "code",
      "metadata": {
        "id": "JptsTS0y8cLG",
        "colab_type": "code",
        "colab": {}
      },
      "source": [
        "#plotting model parameters\n",
        "theta0_values = np.array(theta0_values)\n",
        "theta1_values = np.array(theta1_values)\n",
        "theta2_values = np.array(theta2_values)\n",
        "theta3_values = np.array(theta3_values)\n",
        "\n",
        "plt.title('Model Parameter')\n",
        "plt.plot(theta0_values, 'black', label = theta0)\n",
        "plt.plot(theta1_values, 'red', label = theta1)\n",
        "plt.plot(theta2_values, 'green',  label = theta2)\n",
        "plt.plot(theta3_values, 'blue', label = theta3)\n",
        "plt.show()"
      ],
      "execution_count": 0,
      "outputs": []
    },
    {
      "cell_type": "code",
      "metadata": {
        "id": "cTkY2vwIJRPl",
        "colab_type": "code",
        "colab": {}
      },
      "source": [
        "#plotting training errors\n",
        "e_values = np.array(e_values)\n",
        "plt.title('Training Errors')\n",
        "plt.plot(e_values,'b')\n",
        "plt.xlim(0,10000)\n",
        "plt.ylim(0,1000)\n",
        "plt.show()"
      ],
      "execution_count": 0,
      "outputs": []
    }
  ]
}