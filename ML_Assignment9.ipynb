{
  "nbformat": 4,
  "nbformat_minor": 0,
  "metadata": {
    "colab": {
      "name": "ML_Assignment9.ipynb",
      "provenance": [],
      "private_outputs": true,
      "collapsed_sections": [],
      "authorship_tag": "ABX9TyOZAOKno6W8U+OoyGEl+Vom",
      "include_colab_link": true
    },
    "kernelspec": {
      "name": "python3",
      "display_name": "Python 3"
    },
    "accelerator": "GPU"
  },
  "cells": [
    {
      "cell_type": "markdown",
      "metadata": {
        "id": "view-in-github",
        "colab_type": "text"
      },
      "source": [
        "<a href=\"https://colab.research.google.com/github/yangsu0/class_machine_learning/blob/master/ML_Assignment9.ipynb\" target=\"_parent\"><img src=\"https://colab.research.google.com/assets/colab-badge.svg\" alt=\"Open In Colab\"/></a>"
      ]
    },
    {
      "cell_type": "code",
      "metadata": {
        "id": "-5fi8DfEPQvi",
        "colab_type": "code",
        "colab": {}
      },
      "source": [
        "import matplotlib.pyplot as plt\n",
        "import numpy as np\n",
        "\n",
        "file_data   = \"mnist.csv\"\n",
        "handle_file = open(file_data, \"r\")\n",
        "data        = handle_file.readlines()\n",
        "handle_file.close()\n",
        "\n",
        "size_row    = 28    # height of the image\n",
        "size_col    = 28    # width of the image\n",
        "\n",
        "num_image   = len(data)\n",
        "count       = 0     # count for the number of images\n",
        "\n",
        "#\n",
        "# normalize the values of the input data to be [0, 1]\n",
        "#\n",
        "def normalize(data):\n",
        "\n",
        "    data_normalized = (data - min(data)) / (max(data) -min(data))\n",
        "\n",
        "    return(data_normalized)\n",
        "\n",
        "#\n",
        "# example of distance function between two vectors x and y\n",
        "#\n",
        "def distance(x, y):\n",
        "\n",
        "    d = (x - y) ** 2\n",
        "    s = np.sum(d)\n",
        "    # r = np.sqrt(s)\n",
        "\n",
        "    return(s)\n",
        "\n",
        "#\n",
        "# make a matrix each column of which represents an images in a vector form\n",
        "#\n",
        "list_image  = np.empty((size_row * size_col, num_image), dtype=float)\n",
        "list_label  = np.empty(num_image, dtype=int)\n",
        "\n",
        "for line in data:\n",
        "\n",
        "    line_data   = line.split(',')\n",
        "    label       = line_data[0]\n",
        "    im_vector   = np.asfarray(line_data[1:])\n",
        "    im_vector   = normalize(im_vector)\n",
        "\n",
        "    list_label[count]       = label\n",
        "    list_image[:, count]    = im_vector\n",
        "\n",
        "    count += 1\n",
        "\n",
        "\n",
        "\n"
      ],
      "execution_count": 0,
      "outputs": []
    },
    {
      "cell_type": "code",
      "metadata": {
        "id": "0_v3jMvL3F4f",
        "colab_type": "code",
        "colab": {}
      },
      "source": [
        "#prepare one-hot-encoded label list\n",
        "target = list_label\n",
        "num = np.unique(target)\n",
        "\n",
        "#one_hot_label = np.eye(10)[num]\n",
        "num = num.shape[0]\n",
        "encoded_label = np.eye(num)[target]\n",
        "encoded_label = encoded_label.T"
      ],
      "execution_count": 0,
      "outputs": []
    },
    {
      "cell_type": "code",
      "metadata": {
        "id": "xmXo3z7R5VO5",
        "colab_type": "code",
        "colab": {}
      },
      "source": [
        "#prepare train & test set\n",
        "train_image = np.empty((size_row * size_col, 6000), dtype=float)\n",
        "test_image = np.empty((size_row * size_col, 4000), dtype=float)\n",
        "test_label = np.empty((10, 4000), dtype=float)\n",
        "train_label = np.empty((10, 6000), dtype=float)\n",
        "\n",
        "for i in range(num_image):\n",
        "  if i>=6000:\n",
        "    test_image[:, i-6000] = normalize(list_image[:, i])\n",
        "    test_label[:, i-6000] = encoded_label[:, i]\n",
        "  else:\n",
        "    train_image[:, i] = normalize(list_image[:, i])\n",
        "    train_label[:, i] = encoded_label[:, i]"
      ],
      "execution_count": 0,
      "outputs": []
    },
    {
      "cell_type": "code",
      "metadata": {
        "id": "y0z7oSFDarK3",
        "colab_type": "code",
        "colab": {}
      },
      "source": [
        "#define functions\n",
        "def sigmoid(z):\n",
        "  return 1/(1+np.exp(-z))\n",
        "\n",
        "def sigmoid_prime(z):\n",
        "  return sigmoid(z) * (1 - sigmoid(z))\n",
        "\n",
        "def object_func(label, sig):\n",
        "  return -np.mean(label*np.log(sig) + (1-label)*np.log(1-sig))"
      ],
      "execution_count": 0,
      "outputs": []
    },
    {
      "cell_type": "code",
      "metadata": {
        "id": "W6GPX4SVjwkE",
        "colab_type": "code",
        "colab": {}
      },
      "source": [
        "loss_train_list = []\n",
        "loss_test_list = []\n",
        "acc_train_list = []\n",
        "acc_test_list = []"
      ],
      "execution_count": 0,
      "outputs": []
    }
  ]
}