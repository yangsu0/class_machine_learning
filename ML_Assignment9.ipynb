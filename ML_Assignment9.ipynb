{
  "nbformat": 4,
  "nbformat_minor": 0,
  "metadata": {
    "colab": {
      "name": "ML_Assignment9.ipynb",
      "provenance": [],
      "private_outputs": true,
      "collapsed_sections": [],
      "authorship_tag": "ABX9TyMd5YLFyTpJw81it+EEXbD7",
      "include_colab_link": true
    },
    "kernelspec": {
      "name": "python3",
      "display_name": "Python 3"
    },
    "accelerator": "GPU"
  },
  "cells": [
    {
      "cell_type": "markdown",
      "metadata": {
        "id": "view-in-github",
        "colab_type": "text"
      },
      "source": [
        "<a href=\"https://colab.research.google.com/github/yangsu0/class_machine_learning/blob/master/ML_Assignment9.ipynb\" target=\"_parent\"><img src=\"https://colab.research.google.com/assets/colab-badge.svg\" alt=\"Open In Colab\"/></a>"
      ]
    },
    {
      "cell_type": "code",
      "metadata": {
        "id": "-5fi8DfEPQvi",
        "colab_type": "code",
        "colab": {}
      },
      "source": [
        "import matplotlib.pyplot as plt\n",
        "import numpy as np\n",
        "\n",
        "file_data   = \"mnist.csv\"\n",
        "handle_file = open(file_data, \"r\")\n",
        "data        = handle_file.readlines()\n",
        "handle_file.close()\n",
        "\n",
        "size_row    = 28    # height of the image\n",
        "size_col    = 28    # width of the image\n",
        "\n",
        "num_image   = len(data)\n",
        "count       = 0     # count for the number of images\n",
        "\n",
        "#\n",
        "# normalize the values of the input data to be [0, 1]\n",
        "#\n",
        "def normalize(data):\n",
        "\n",
        "    data_normalized = (data - min(data)) / (max(data) -min(data))\n",
        "\n",
        "    return(data_normalized)\n",
        "\n",
        "#\n",
        "# example of distance function between two vectors x and y\n",
        "#\n",
        "def distance(x, y):\n",
        "\n",
        "    d = (x - y) ** 2\n",
        "    s = np.sum(d)\n",
        "    # r = np.sqrt(s)\n",
        "\n",
        "    return(s)\n",
        "\n",
        "#\n",
        "# make a matrix each column of which represents an images in a vector form\n",
        "#\n",
        "list_image  = np.empty((size_row * size_col, num_image), dtype=float)\n",
        "list_label  = np.empty(num_image, dtype=int)\n",
        "\n",
        "for line in data:\n",
        "\n",
        "    line_data   = line.split(',')\n",
        "    label       = line_data[0]\n",
        "    im_vector   = np.asfarray(line_data[1:])\n",
        "    im_vector   = normalize(im_vector)\n",
        "\n",
        "    list_label[count]       = label\n",
        "    list_image[:, count]    = im_vector\n",
        "\n",
        "    count += 1\n",
        "\n",
        "\n",
        "\n"
      ],
      "execution_count": 0,
      "outputs": []
    },
    {
      "cell_type": "code",
      "metadata": {
        "id": "0_v3jMvL3F4f",
        "colab_type": "code",
        "colab": {}
      },
      "source": [
        "#prepare one-hot-encoded label list\n",
        "target = list_label\n",
        "num = np.unique(target)\n",
        "\n",
        "#one_hot_label = np.eye(10)[num]\n",
        "num = num.shape[0]\n",
        "encoded_label = np.eye(num)[target]\n",
        "encoded_label = encoded_label.T"
      ],
      "execution_count": 0,
      "outputs": []
    },
    {
      "cell_type": "code",
      "metadata": {
        "id": "xmXo3z7R5VO5",
        "colab_type": "code",
        "colab": {}
      },
      "source": [
        "#prepare train & test set\n",
        "train_image = np.empty((size_row * size_col, 6000), dtype=float)\n",
        "test_image = np.empty((size_row * size_col, 4000), dtype=float)\n",
        "test_label = np.empty((10, 4000), dtype=float)\n",
        "train_label = np.empty((10, 6000), dtype=float)\n",
        "\n",
        "for i in range(num_image):\n",
        "  if i>=6000:\n",
        "    test_image[:, i-6000] = normalize(list_image[:, i])\n",
        "    test_label[:, i-6000] = encoded_label[:, i]\n",
        "  else:\n",
        "    train_image[:, i] = normalize(list_image[:, i])\n",
        "    train_label[:, i] = encoded_label[:, i]"
      ],
      "execution_count": 0,
      "outputs": []
    },
    {
      "cell_type": "code",
      "metadata": {
        "id": "y0z7oSFDarK3",
        "colab_type": "code",
        "colab": {}
      },
      "source": [
        "#define functions\n",
        "def sigmoid(z):\n",
        "  return 1/(1+np.exp(-z))\n",
        "\n",
        "def sigmoid_prime(z):\n",
        "  return sigmoid(z) * (1 - sigmoid(z))\n",
        "\n",
        "def object_func(label, sig):\n",
        "  return -np.mean(label*np.log(sig) + (1-label)*np.log(1-sig))"
      ],
      "execution_count": 0,
      "outputs": []
    },
    {
      "cell_type": "code",
      "metadata": {
        "id": "W6GPX4SVjwkE",
        "colab_type": "code",
        "colab": {}
      },
      "source": [
        "loss_train_list = []\n",
        "loss_test_list = []\n",
        "acc_train_list = []\n",
        "acc_test_list = []"
      ],
      "execution_count": 0,
      "outputs": []
    },
    {
      "cell_type": "code",
      "metadata": {
        "id": "NNhIUALqBFDZ",
        "colab_type": "code",
        "colab": {}
      },
      "source": [
        "#y' = u*x\n",
        "#y = sigmoid(y')\n",
        "#z' = v*y\n",
        "#z = sigmoid(z')\n",
        "#h' = w*z\n",
        "#h = sigmoid(h')\n",
        "u_list = []\n",
        "v_list = []\n",
        "w_list = []\n",
        "\n",
        "u=np.random.randn(196,784)\n",
        "v=np.random.randn(49,196)\n",
        "w=np.random.randn(10,49)\n",
        "b1 = np.zeros((196, 1))\n",
        "b2 = np.zeros((49, 1))\n",
        "b3 = np.zeros((10, 1))\n",
        "\n",
        "\n",
        "\n",
        "#dh = (h-train_label)/h*(1-h)\n",
        "#dh'= np.multiply(dh, sigmoid_prime(dh))\n",
        "\n",
        "#####dw = np.dot(dh',z.T)\n",
        "\n",
        "#dz = np.dot(w.T,dh')\n",
        "#dz' = np.multiply(dz, sigmoid_prime(dz))\n",
        "\n",
        "#####dv = np.dot(dz', y.T)\n",
        "\n",
        "#dy = np.dot(v.T,dz')\n",
        "#dy'= np.multiply(dy, sigmoid_prime(dy))\n",
        "\n",
        "#####du = np.dot(dy',train_image.T)\n",
        "\n",
        "def gradient(h_,z_,y_,h,z,y):\n",
        "  dh = (h-train_label)/h*(1-h)\n",
        "  dh_ = np.multiply(dh, sigmoid_prime(h_))\n",
        "  dw = np.dot(dh_,z.T)\n",
        "  db3 = np.sum(dh_, axis=1, keepdims=True)\n",
        "  dz = np.dot(w.T,dh_)\n",
        "  dz_ = np.multiply(dz, sigmoid_prime(z_))\n",
        "  dv = np.dot(dz_, y.T)\n",
        "  db2 = np.sum(dz_, axis=1, keepdims=True)\n",
        "  dy = np.dot(v.T,dz_)\n",
        "  dy_= np.multiply(dy, sigmoid_prime(y_))\n",
        "  du = np.dot(dy_,train_image.T)\n",
        "  db1 = np.sum(dy_, axis=1, keepdims=True)\n",
        "\n",
        "  return (1/6000) * du, (1/6000) * dv,  (1/6000) * dw, (1/6000) * db1, (1/6000) * db2, (1/6000) * db3,"
      ],
      "execution_count": 0,
      "outputs": []
    },
    {
      "cell_type": "code",
      "metadata": {
        "id": "zMs9uxN5BFGK",
        "colab_type": "code",
        "colab": {}
      },
      "source": [
        "correct = [] #collect the index of correct images\n",
        "missed = {} #collect the index of missed images and derived label \n",
        "def accuracy(label, sig):\n",
        "  data_len = label.shape[1]\n",
        "  max_index = sig.argmax(axis=0)\n",
        "  cnt = 0\n",
        "\n",
        "  for i in range(data_len):\n",
        "    if label[max_index[i],i] == 1:\n",
        "      cnt += 1\n",
        "      if data_len == 4000: #test_image set\n",
        "          correct.append(i)\n",
        "    else:\n",
        "      if data_len == 4000:\n",
        "        missed[i] = max_index[i] #{#1(data):#2, #2:#4,..}\n",
        "  return (cnt/data_len) * 100\n"
      ],
      "execution_count": 0,
      "outputs": []
    },
    {
      "cell_type": "code",
      "metadata": {
        "id": "nKLPSzCtBFJh",
        "colab_type": "code",
        "colab": {}
      },
      "source": [
        "step_size = 0.265\n",
        "\n",
        "#Loop while the object function convergence \n",
        "past_loss = 0\n",
        "while(1):\n",
        "  y_ = np.dot(u, train_image) + b1\n",
        "  z_ = np.dot(v, sigmoid(y_)) + b2\n",
        "  h_ = np.dot(w, sigmoid(z_)) + b3\n",
        "  \n",
        "  loss = object_func(train_label, sigmoid(h_))\n",
        "  loss_train_list.append(loss)\n",
        "  acc = accuracy(train_label, sigmoid(h_))\n",
        "  acc_train_list.append(acc)\n",
        "  newu, newv, neww, nb1, nb2, nb3 = gradient(h_,z_,y_,sigmoid(h_), sigmoid(z_), sigmoid(y_))\n",
        "  \n",
        "  y_test = np.dot(u, test_image) + b1\n",
        "  z_test = np.dot(v, sigmoid(y_test)) + b2\n",
        "  h_test = np.dot(w, sigmoid(z_test)) + b3\n",
        "\n",
        "  loss_test = object_func(test_label, sigmoid(h_test))\n",
        "  loss_test_list.append(loss_test)\n",
        "  acc_test = accuracy(test_label, sigmoid(h_test))\n",
        "  acc_test_list.append(acc_test)\n",
        "\n",
        "  u -= step_size * newu\n",
        "  v -= step_size * newv\n",
        "  w -= step_size * neww\n",
        "  b1 -= step_size * nb1\n",
        "  b2 -= step_size * nb2\n",
        "  b3 -= step_size * nb3\n",
        "  \n",
        "  #until convergence\n",
        "  print(loss)\n",
        "  if abs(loss-past_loss) < 0.000001:\n",
        "    break\n",
        "  past_loss = loss"
      ],
      "execution_count": 0,
      "outputs": []
    },
    {
      "cell_type": "code",
      "metadata": {
        "id": "ta25qF10BFM0",
        "colab_type": "code",
        "colab": {}
      },
      "source": [
        "#Plot the loss curve\n",
        "loss_train_list = np.array(loss_train_list)\n",
        "loss_test_list = np.array(loss_test_list)\n",
        "\n",
        "plt.title('Loss Curve')\n",
        "plt.plot(loss_train_list,'b')\n",
        "plt.plot(loss_test_list, 'r')\n",
        "\n",
        "plt.show()"
      ],
      "execution_count": 0,
      "outputs": []
    },
    {
      "cell_type": "code",
      "metadata": {
        "id": "SXmj_YvFBFP5",
        "colab_type": "code",
        "colab": {}
      },
      "source": [
        "#Plot the accuracy curve\n",
        "acc_train_list = np.array(acc_train_list)\n",
        "acc_test_list = np.array(acc_test_list)\n",
        "\n",
        "plt.title('Accuracy Curve')\n",
        "plt.plot(acc_train_list,'b')\n",
        "plt.plot(acc_test_list, 'r')\n",
        "\n",
        "plt.show()"
      ],
      "execution_count": 0,
      "outputs": []
    },
    {
      "cell_type": "code",
      "metadata": {
        "id": "kjcdf2_JCbjx",
        "colab_type": "code",
        "colab": {}
      },
      "source": [
        "#Plot the accuracy value\n",
        "print(\"Final Training Accuracy : \" + str(acc_train_list[-1]) + \"%\")\n",
        "print(\"Final Test Accuracy : \" + str(acc_test_list[-1])+ \"%\")"
      ],
      "execution_count": 0,
      "outputs": []
    },
    {
      "cell_type": "code",
      "metadata": {
        "id": "hth3DdCWCbmY",
        "colab_type": "code",
        "colab": {}
      },
      "source": [
        "#Plot the classification example\n",
        "#Correctly classified images\n",
        "\n",
        "for i in range(10):\n",
        "  for j in range(len(correct)):\n",
        "    if test_label[i,correct[j]] == 1:\n",
        "      im_vector = test_image[:,correct[j]]\n",
        "    else:\n",
        "      continue\n",
        "    im_matrix   = im_vector.reshape((size_row, size_col))\n",
        "\n",
        "    plt.subplot(2, 5, i+1)\n",
        "    plt.title(i)\n",
        "    plt.imshow(im_matrix, cmap='Greys', interpolation='None')\n",
        "\n",
        "    frame   = plt.gca()\n",
        "    frame.axes.get_xaxis().set_visible(False)\n",
        "    frame.axes.get_yaxis().set_visible(False)\n",
        "    break\n",
        "plt.show()\n",
        "\n",
        "#Misclassified images\n",
        "\n",
        "for i in range(10):\n",
        "  for k, val in missed.items():\n",
        "    if k == i:\n",
        "        im_vector = test_image[:,val]\n",
        "    else:\n",
        "      continue\n",
        "    im_matrix   = im_vector.reshape((size_row, size_col))\n",
        "\n",
        "    plt.subplot(2, 5, i+1)\n",
        "    plt.title(i)\n",
        "    plt.imshow(im_matrix, cmap='Greys', interpolation='None')\n",
        "\n",
        "    frame   = plt.gca()\n",
        "    frame.axes.get_xaxis().set_visible(False)\n",
        "    frame.axes.get_yaxis().set_visible(False)\n",
        "    break\n",
        "plt.show()"
      ],
      "execution_count": 0,
      "outputs": []
    }
  ]
}